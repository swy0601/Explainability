{
 "cells": [
  {
   "cell_type": "code",
   "id": "initial_id",
   "metadata": {
    "collapsed": true,
    "ExecuteTime": {
     "end_time": "2024-11-12T05:11:01.807529Z",
     "start_time": "2024-11-12T05:11:01.339324Z"
    }
   },
   "source": [
    "import pandas as pd\n",
    "import numpy as np"
   ],
   "outputs": [],
   "execution_count": 1
  },
  {
   "metadata": {
    "ExecuteTime": {
     "end_time": "2024-11-12T05:11:01.851115Z",
     "start_time": "2024-11-12T05:11:01.812610Z"
    }
   },
   "cell_type": "code",
   "source": [
    "# 读取CSV文件并指定编码\n",
    "file_path = 'questionnaire_results.csv'  # 请替换为你的文件路径\n",
    "df = pd.read_csv(file_path, encoding='gbk')  # 尝试使用gbk编码\n",
    "\n",
    "# 定义需要转换的列（Q5~Q17）\n",
    "likert_columns = ['Q5', 'Q6', 'Q7', 'Q8', 'Q9', 'Q10', 'Q11', 'Q12', 'Q13', 'Q14', 'Q15', 'Q16', 'Q17']\n",
    "\n",
    "# 转换回答，将1, 2, 3, 4, 5转换为5, 4, 3, 2, 1\n",
    "for column in likert_columns:\n",
    "    df[column] = df[column].apply(lambda x: 6 - x if pd.notnull(x) else x)\n",
    "\n",
    "# 按照受访者的身份类型进行分组\n",
    "students_df = df[df['Q1'] == 1]  # Q1中回答为1的是学生\n",
    "developers_teachers_df = df[df['Q1'] != 1]  # Q1中回答不为1的是开发者\n",
    "\n",
    "# 打印转换后的数据（可选）\n",
    "print(\"转换后的数据：\")\n",
    "print(df[likert_columns].head())"
   ],
   "id": "c013101916cdfdb3",
   "outputs": [
    {
     "name": "stdout",
     "output_type": "stream",
     "text": [
      "转换后的数据：\n",
      "   Q5  Q6  Q7  Q8  Q9  Q10  Q11  Q12  Q13  Q14  Q15  Q16  Q17\n",
      "0   5   4   4   4   4    4    4    4    4    5    4    4    3\n",
      "1   5   4   4   5   4    4    5    5    4    5    3    4    4\n",
      "2   5   4   4   5   4    5    5    5    3    4    4    4    5\n",
      "3   4   5   4   3   4    4    5    5    3    2    5    4    5\n",
      "4   5   5   3   5   5    4    5    3    3    5    5    5    3\n"
     ]
    }
   ],
   "execution_count": 3
  },
  {
   "metadata": {
    "ExecuteTime": {
     "end_time": "2024-11-12T05:11:01.864586Z",
     "start_time": "2024-11-12T05:11:01.852660Z"
    }
   },
   "cell_type": "code",
   "source": [
    "# 用于计算问卷第二部分第一小问的统计数据\n",
    "def calculate_part2_q1_statistics(dataframe, exclude_columns=None):\n",
    "    \"\"\"\n",
    "    计算指定数据集内各个小题及整体的平均值和方差。\n",
    "\n",
    "    参数：\n",
    "    dataframe: pd.DataFrame - 输入的数据集\n",
    "    question_columns: list - 需要计算的题目列\n",
    "    exclude_columns: list - 排除的题目列（可选）\n",
    "\n",
    "    返回：\n",
    "    dict - 各小题及整体的平均值和方差\n",
    "    \"\"\"\n",
    "    question_columns = ['Q5', 'Q7', 'Q9', 'Q11', 'Q13', 'Q15']\n",
    "    # 提取指定列数据并存储到数组中\n",
    "    part_question = {column: dataframe[column].dropna().values for column in question_columns}\n",
    "\n",
    "    # 计算各小题的平均值和方差\n",
    "    question_stats = {question: {'mean': answers.mean(), 'variance': answers.var()} for question, answers in part_question.items()}\n",
    "    for question, stats in question_stats.items():\n",
    "        print(f\"{question} - 平均值: {stats['mean']:.3f}, 方差: {stats['variance']:.3f}\")\n",
    "\n",
    "    # 计算整体的平均值和方差\n",
    "    combined_array = np.concatenate(list(part_question.values()))\n",
    "    overall_mean = combined_array.mean()\n",
    "    overall_variance = combined_array.var()\n",
    "    print(f\"整体平均值: {overall_mean:.3f}, 整体方差: {overall_variance:.3f}\")\n",
    "    \n",
    "    # 计算整体大于4、等于3、小于等于2的比例\n",
    "    print(f\"整体 - 大于等于4的比例: {(combined_array >= 4).mean():.3f}; 等于3的比例: {(combined_array == 3).mean():.3f}; 小于等于2的比例: {(combined_array <= 2).mean():.3f}\")\n",
    "\n",
    "    # 如果提供了排除的列，计算排除后的整体平均值和方差\n",
    "    if exclude_columns:\n",
    "        filtered_question = {question: answers for question, answers in part_question.items() if\n",
    "                             question not in exclude_columns}\n",
    "        filtered_combined_array = np.concatenate(list(filtered_question.values()))\n",
    "        filtered_overall_mean = filtered_combined_array.mean()\n",
    "        filtered_overall_variance = filtered_combined_array.var()\n",
    "        print(f\"排除{exclude_columns}后的整体平均值: {filtered_overall_mean:.3f}, 整体方差: {filtered_overall_variance:.3f}\")\n",
    "\n",
    "    # return question_stats\n",
    "\n",
    "calculate_part2_q1_statistics(df, exclude_columns=['Q5', 'Q11'])\n",
    "print(\"=\" * 50)\n",
    "calculate_part2_q1_statistics(students_df, exclude_columns=['Q5', 'Q11'])\n",
    "print(\"=\" * 50)\n",
    "calculate_part2_q1_statistics(developers_teachers_df, exclude_columns=['Q5', 'Q11'])\n"
   ],
   "id": "93a5976d82d8506",
   "outputs": [
    {
     "name": "stdout",
     "output_type": "stream",
     "text": [
      "Q5 - 平均值: 4.419, 方差: 0.476\n",
      "Q7 - 平均值: 4.116, 方差: 0.707\n",
      "Q9 - 平均值: 4.000, 方差: 0.605\n",
      "Q11 - 平均值: 4.349, 方差: 0.460\n",
      "Q13 - 平均值: 4.233, 方差: 0.551\n",
      "Q15 - 平均值: 4.326, 方差: 0.685\n",
      "整体平均值: 4.240, 整体方差: 0.601\n",
      "整体 - 大于等于4的比例: 0.853; 等于3的比例: 0.116; 小于等于2的比例: 0.031\n",
      "排除['Q5', 'Q11']后的整体平均值: 4.169, 整体方差: 0.652\n",
      "==================================================\n",
      "Q5 - 平均值: 4.308, 方差: 0.598\n",
      "Q7 - 平均值: 3.923, 方差: 0.840\n",
      "Q9 - 平均值: 3.769, 方差: 0.639\n",
      "Q11 - 平均值: 4.308, 方差: 0.521\n",
      "Q13 - 平均值: 4.077, 方差: 0.533\n",
      "Q15 - 平均值: 4.231, 方差: 0.716\n",
      "整体平均值: 4.103, 整体方差: 0.682\n",
      "整体 - 大于等于4的比例: 0.808; 等于3的比例: 0.141; 小于等于2的比例: 0.051\n",
      "排除['Q5', 'Q11']后的整体平均值: 4.000, 整体方差: 0.712\n",
      "==================================================\n",
      "Q5 - 平均值: 4.588, 方差: 0.242\n",
      "Q7 - 平均值: 4.412, 方差: 0.360\n",
      "Q9 - 平均值: 4.353, 方差: 0.346\n",
      "Q11 - 平均值: 4.412, 方差: 0.360\n",
      "Q13 - 平均值: 4.471, 方差: 0.484\n",
      "Q15 - 平均值: 4.471, 方差: 0.602\n",
      "整体平均值: 4.451, 整体方差: 0.404\n",
      "整体 - 大于等于4的比例: 0.922; 等于3的比例: 0.078; 小于等于2的比例: 0.000\n",
      "排除['Q5', 'Q11']后的整体平均值: 4.426, 整体方差: 0.450\n"
     ]
    }
   ],
   "execution_count": 4
  },
  {
   "metadata": {
    "ExecuteTime": {
     "end_time": "2024-11-12T05:11:01.875617Z",
     "start_time": "2024-11-12T05:11:01.866826Z"
    }
   },
   "cell_type": "code",
   "source": [
    "# 用于计算问卷第二部分第二小问的统计数据\n",
    "def calculate_part2_q2_statistics(dataframe, exclude_columns=None):\n",
    "    \"\"\"\n",
    "    计算指定数据集内各个小题及整体的平均值和方差。\n",
    "\n",
    "    参数：\n",
    "    dataframe: pd.DataFrame - 输入的数据集\n",
    "    exclude_columns: list - 排除的题目列（可选）\n",
    "\n",
    "    返回：\n",
    "    dict - 各小题及整体的平均值和方差\n",
    "    \"\"\"\n",
    "    question_columns = ['Q6', 'Q8', 'Q10', 'Q12', 'Q14', 'Q16']\n",
    "    # 提取指定列数据并存储到数组中\n",
    "    part_question = {column: dataframe[column].dropna().values for column in question_columns}\n",
    "\n",
    "    # 计算各小题的平均值和方差\n",
    "    question_stats = {question: {'mean': answers.mean(), 'variance': answers.var()} for question, answers in part_question.items()}\n",
    "    for question, stats in question_stats.items():\n",
    "        print(f\"{question} - 平均值: {stats['mean']:.3f}, 方差: {stats['variance']:.3f}\")\n",
    "\n",
    "    # 计算整体的平均值和方差\n",
    "    combined_array = np.concatenate(list(part_question.values()))\n",
    "    overall_mean = combined_array.mean()\n",
    "    overall_variance = combined_array.var()\n",
    "    print(f\"整体平均值: {overall_mean:.3f}, 整体方差: {overall_variance:.3f}\")\n",
    "    \n",
    "    # 计算整体大于4、等于3、小于等于2的比例\n",
    "    print(f\"整体大于等于4的比例: {(combined_array >= 4).mean():.3f}; 等于3的比例: {(combined_array == 3).mean():.3f}; 小于等于2的比例: {(combined_array <= 2).mean():.3f}\")\n",
    "\n",
    "    # 如果提供了排除的列，计算排除后的整体平均值和方差\n",
    "    if exclude_columns:\n",
    "        filtered_question = {question: answers for question, answers in part_question.items() if question not in exclude_columns}\n",
    "        filtered_combined_array = np.concatenate(list(filtered_question.values()))\n",
    "        filtered_overall_mean = filtered_combined_array.mean()\n",
    "        filtered_overall_variance = filtered_combined_array.var()\n",
    "        print(f\"排除{exclude_columns}后的整体平均值: {filtered_overall_mean:.3f}, 整体方差: {filtered_overall_variance:.3f}\")\n",
    "\n",
    "    # return question_stats\n",
    "\n",
    "# 示例调用函数计算开发者数据集的统计数据\n",
    "calculate_part2_q2_statistics(df, exclude_columns=['Q6', 'Q12'])\n",
    "print(\"=\" * 50)\n",
    "calculate_part2_q2_statistics(students_df, exclude_columns=['Q6', 'Q12'])\n",
    "print(\"=\" * 50)\n",
    "calculate_part2_q2_statistics(developers_teachers_df, exclude_columns=['Q6', 'Q12'])"
   ],
   "id": "e4725c46b6ad2f36",
   "outputs": [
    {
     "name": "stdout",
     "output_type": "stream",
     "text": [
      "Q6 - 平均值: 4.442, 方差: 0.479\n",
      "Q8 - 平均值: 4.140, 方差: 0.818\n",
      "Q10 - 平均值: 4.186, 方差: 0.710\n",
      "Q12 - 平均值: 4.488, 方差: 0.622\n",
      "Q14 - 平均值: 4.186, 方差: 0.942\n",
      "Q16 - 平均值: 4.372, 方差: 0.559\n",
      "整体平均值: 4.302, 整体方差: 0.707\n",
      "整体大于等于4的比例: 0.860; 等于3的比例: 0.097; 小于等于2的比例: 0.043\n",
      "排除['Q6', 'Q12']后的整体平均值: 4.221, 整体方差: 0.765\n",
      "==================================================\n",
      "Q6 - 平均值: 4.192, 方差: 0.540\n",
      "Q8 - 平均值: 3.846, 方差: 0.899\n",
      "Q10 - 平均值: 3.923, 方差: 0.840\n",
      "Q12 - 平均值: 4.462, 方差: 0.633\n",
      "Q14 - 平均值: 4.038, 方差: 1.037\n",
      "Q16 - 平均值: 4.308, 方差: 0.444\n",
      "整体平均值: 4.128, 整体方差: 0.778\n",
      "整体大于等于4的比例: 0.821; 等于3的比例: 0.122; 小于等于2的比例: 0.058\n",
      "排除['Q6', 'Q12']后的整体平均值: 4.029, 整体方差: 0.836\n",
      "==================================================\n",
      "Q6 - 平均值: 4.824, 方差: 0.145\n",
      "Q8 - 平均值: 4.588, 方差: 0.360\n",
      "Q10 - 平均值: 4.588, 方差: 0.242\n",
      "Q12 - 平均值: 4.529, 方差: 0.602\n",
      "Q14 - 平均值: 4.412, 方差: 0.713\n",
      "Q16 - 平均值: 4.471, 方差: 0.720\n",
      "整体平均值: 4.569, 整体方差: 0.481\n",
      "整体大于等于4的比例: 0.922; 等于3的比例: 0.059; 小于等于2的比例: 0.020\n",
      "排除['Q6', 'Q12']后的整体平均值: 4.515, 整体方差: 0.514\n"
     ]
    }
   ],
   "execution_count": 5
  },
  {
   "metadata": {
    "ExecuteTime": {
     "end_time": "2024-11-12T05:11:01.882348Z",
     "start_time": "2024-11-12T05:11:01.876814Z"
    }
   },
   "cell_type": "code",
   "source": [
    "# 用于计算问卷第三部分第一小问的统计数据\n",
    "def calculate_part3_q1_statistics(dataframe):\n",
    "    \"\"\"\n",
    "    计算Q17的平均值和方差。\n",
    "    参数：\n",
    "    dataframe: pd.DataFrame - 输入的数据集\n",
    "    返回：\n",
    "    dict - Q17的平均值和方差\n",
    "    \"\"\"\n",
    "    # 提取Q17的数据并存储到数组中\n",
    "    part3_question1 = dataframe['Q17'].dropna().values\n",
    "    # 计算Q17的平均值和方差\n",
    "    question1_mean = part3_question1.mean()\n",
    "    question1_variance = part3_question1.var()\n",
    "    print(f\"Q17 - 平均值: {question1_mean:.3f}, 方差: {question1_variance:.3f}\")\n",
    "    # 计算Q17中大于4、等于3、小于等于2的比例\n",
    "    print(f\"Q17 - 大于等于4的比例: {(part3_question1 >= 4).mean():.3f}; 等于3的比例: {(part3_question1 == 3).mean():.3f}; 小于等于2的比例: {(part3_question1 <= 2).mean():.3f}\")\n",
    "    \n",
    "    # return {'mean': question1_mean, 'variance': question1_variance}\n",
    "\n",
    "# 示例调用函数计算Q17的统计数据\n",
    "calculate_part3_q1_statistics(df)\n",
    "print(\"=\" * 50)\n",
    "calculate_part3_q1_statistics(students_df)\n",
    "print(\"=\" * 50)\n",
    "calculate_part3_q1_statistics(developers_teachers_df)"
   ],
   "id": "de92f2543a91c176",
   "outputs": [
    {
     "name": "stdout",
     "output_type": "stream",
     "text": [
      "Q17 - 平均值: 4.163, 方差: 0.601\n",
      "Q17 - 大于等于4的比例: 0.814; 等于3的比例: 0.163; 小于等于2的比例: 0.023\n",
      "==================================================\n",
      "Q17 - 平均值: 4.038, 方差: 0.652\n",
      "Q17 - 大于等于4的比例: 0.769; 等于3的比例: 0.192; 小于等于2的比例: 0.038\n",
      "==================================================\n",
      "Q17 - 平均值: 4.353, 方差: 0.464\n",
      "Q17 - 大于等于4的比例: 0.882; 等于3的比例: 0.118; 小于等于2的比例: 0.000\n"
     ]
    }
   ],
   "execution_count": 6
  },
  {
   "metadata": {
    "ExecuteTime": {
     "end_time": "2024-11-12T05:11:01.885899Z",
     "start_time": "2024-11-12T05:11:01.883690Z"
    }
   },
   "cell_type": "code",
   "source": "",
   "id": "14a7f310dfe0354a",
   "outputs": [],
   "execution_count": 6
  }
 ],
 "metadata": {
  "kernelspec": {
   "display_name": "Python 3",
   "language": "python",
   "name": "python3"
  },
  "language_info": {
   "codemirror_mode": {
    "name": "ipython",
    "version": 2
   },
   "file_extension": ".py",
   "mimetype": "text/x-python",
   "name": "python",
   "nbconvert_exporter": "python",
   "pygments_lexer": "ipython2",
   "version": "2.7.6"
  }
 },
 "nbformat": 4,
 "nbformat_minor": 5
}
